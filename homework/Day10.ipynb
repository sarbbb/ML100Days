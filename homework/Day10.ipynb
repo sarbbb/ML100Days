{
 "cells": [
  {
   "cell_type": "code",
   "execution_count": 1,
   "id": "9b529235",
   "metadata": {},
   "outputs": [],
   "source": [
    "import pandas as pd"
   ]
  },
  {
   "cell_type": "code",
   "execution_count": 2,
   "id": "4a6a55cf",
   "metadata": {},
   "outputs": [],
   "source": [
    "df1 = pd.read_csv('structured.csv')"
   ]
  },
  {
   "cell_type": "code",
   "execution_count": 3,
   "id": "5a926096",
   "metadata": {},
   "outputs": [
    {
     "name": "stdout",
     "output_type": "stream",
     "text": [
      "    Name  int3  int4\n",
      "0    Jay     1     9\n",
      "1  James     3     8\n",
      "2    EVA     5     7\n"
     ]
    }
   ],
   "source": [
    "print(df1)"
   ]
  },
  {
   "cell_type": "code",
   "execution_count": 6,
   "id": "bf3179e3",
   "metadata": {},
   "outputs": [
    {
     "name": "stdout",
     "output_type": "stream",
     "text": [
      "    Name  int3\n",
      "0    Jay     1\n",
      "1  James     3\n",
      "2    EVA     5\n"
     ]
    }
   ],
   "source": [
    "print(df1[['Name','int3']])"
   ]
  },
  {
   "cell_type": "code",
   "execution_count": 8,
   "id": "6d699406",
   "metadata": {},
   "outputs": [
    {
     "name": "stdout",
     "output_type": "stream",
     "text": [
      "    Name  int3  int4\n",
      "0    Jay     1     9\n",
      "1  James     3     8\n"
     ]
    }
   ],
   "source": [
    "print(df1[0:2])"
   ]
  },
  {
   "cell_type": "code",
   "execution_count": 10,
   "id": "1061695b",
   "metadata": {},
   "outputs": [
    {
     "name": "stdout",
     "output_type": "stream",
     "text": [
      "    Name  int4\n",
      "0    Jay     9\n",
      "1  James     8\n"
     ]
    }
   ],
   "source": [
    "print(df1.loc[[0,1],['Name','int4']])   # loc是指location，用索引名稱與欄位名稱來選取資料 => df.loc[索引名稱,欄位名稱]"
   ]
  },
  {
   "cell_type": "code",
   "execution_count": 12,
   "id": "ef24fb7a",
   "metadata": {},
   "outputs": [
    {
     "name": "stdout",
     "output_type": "stream",
     "text": [
      "  Name  int4\n",
      "0  Jay     9\n",
      "2  EVA     7\n"
     ]
    }
   ],
   "source": [
    "print(df1.iloc[[0,2],[0,2]])  # iloc是指用index 表達location，用rows的index與columns的index來選取資料 => df.iloc[rows索引,欄位索引]"
   ]
  },
  {
   "cell_type": "code",
   "execution_count": null,
   "id": "68e315c6",
   "metadata": {},
   "outputs": [],
   "source": []
  }
 ],
 "metadata": {
  "kernelspec": {
   "display_name": "Python 3 (ipykernel)",
   "language": "python",
   "name": "python3"
  },
  "language_info": {
   "codemirror_mode": {
    "name": "ipython",
    "version": 3
   },
   "file_extension": ".py",
   "mimetype": "text/x-python",
   "name": "python",
   "nbconvert_exporter": "python",
   "pygments_lexer": "ipython3",
   "version": "3.9.13"
  }
 },
 "nbformat": 4,
 "nbformat_minor": 5
}
