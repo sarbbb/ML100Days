{
 "cells": [
  {
   "cell_type": "code",
   "execution_count": 1,
   "id": "35497a93",
   "metadata": {},
   "outputs": [],
   "source": [
    "import numpy as np"
   ]
  },
  {
   "cell_type": "code",
   "execution_count": 2,
   "id": "c7dee874",
   "metadata": {},
   "outputs": [
    {
     "name": "stdout",
     "output_type": "stream",
     "text": [
      "[1. 3. 4. 5.]\n",
      "float64\n"
     ]
    }
   ],
   "source": [
    "# 在建置array時，可以用dtype參數指定array元素的type\n",
    "b = np.array([1,3,4,5],dtype = float)\n",
    "print(b)\n",
    "print(b.dtype)"
   ]
  },
  {
   "cell_type": "code",
   "execution_count": 3,
   "id": "8d4ed4ad",
   "metadata": {},
   "outputs": [
    {
     "name": "stdout",
     "output_type": "stream",
     "text": [
      "{'name': 'EVA', 'gender': 'femala', 'major subject': 'Information Management'}\n",
      "<class 'numpy.ndarray'>\n",
      "object\n"
     ]
    }
   ],
   "source": [
    "# 把字典丟進array 會整串丟進去，變成一個一維陣列，陣列元素是obj\n",
    "c = np.array({'name':'EVA','gender':'femala','major subject':'Information Management'})\n",
    "print(c)\n",
    "print(type(c))\n",
    "print(c.dtype)"
   ]
  },
  {
   "cell_type": "code",
   "execution_count": 4,
   "id": "3690863e",
   "metadata": {},
   "outputs": [
    {
     "name": "stdout",
     "output_type": "stream",
     "text": [
      "dict_items([('name', 'sarbbb'), ('gender', 'femala'), ('major subject', 'IM')])\n",
      "[('name', 'sarbbb'), ('gender', 'femala'), ('major subject', 'IM')] \n",
      "\n",
      "[['name' 'sarbbb']\n",
      " ['gender' 'femala']\n",
      " ['major subject' 'IM']]\n"
     ]
    }
   ],
   "source": [
    "# dict 轉 array => 先把dict 轉成list 再放進array 裡\n",
    "d = {'name':'sarbbb','gender':'femala','major subject':'IM'}\n",
    "print(d.items())                #把dict裡的item取出\n",
    "print(list(d.items()),'\\n')     #把取出的item轉list\n",
    "e = np.array(list(d.items()))   #把list放進array裡\n",
    "print(e)"
   ]
  },
  {
   "cell_type": "code",
   "execution_count": 5,
   "id": "ba7e924f",
   "metadata": {},
   "outputs": [
    {
     "name": "stdout",
     "output_type": "stream",
     "text": [
      "[[0. 0. 0.]\n",
      " [0. 0. 0.]]\n",
      "x1_itemsize 8 \n",
      "\n",
      "[[1. 1. 1. 1.]\n",
      " [1. 1. 1. 1.]\n",
      " [1. 1. 1. 1.]]\n",
      "x2_itemsize 8 \n",
      "\n",
      "[[9 9 9 9 9]\n",
      " [9 9 9 9 9]\n",
      " [9 9 9 9 9]\n",
      " [9 9 9 9 9]]\n",
      "x3_itemsize 4 \n",
      "\n",
      "[[1.04927006e-311 1.04926686e-311 0.00000000e+000 0.00000000e+000\n",
      "  0.00000000e+000 1.16097020e-028]\n",
      " [8.26219736e-072 2.54818292e-028 1.14217665e-071 1.04917183e-153\n",
      "  5.23081515e-143 3.98453824e-062]\n",
      " [3.24915388e-057 2.37859534e+184 1.16279383e+165 1.70098498e+256\n",
      "  5.49109388e-143 1.06396443e+224]\n",
      " [3.96041428e+246 1.16318408e-028 1.24694954e-047 5.99481034e-038\n",
      "  3.98549523e-062 1.39550515e-047]\n",
      " [1.01848862e+248 1.16096643e-028 9.80058441e+252 7.50189709e+247\n",
      "  1.14484251e+243 2.59903827e-144]]\n",
      "x4_itemsize 8 \n",
      "\n"
     ]
    }
   ],
   "source": [
    "# 從固定大小的初始值建置array\n",
    "x1 = np.zeros((2,3))                       #建置用0填滿的array\n",
    "print(x1)\n",
    "print('x1_itemsize',x1.itemsize,'\\n')\n",
    "x2 = np.ones((3,4))                        #建置用1填滿的array\n",
    "print(x2)\n",
    "print('x2_itemsize',x2.itemsize,'\\n')\n",
    "x3 = np.full((4,5),9)                      #建置用指定值(此處是9)填滿的array\n",
    "print(x3)\n",
    "print('x3_itemsize',x3.itemsize,'\\n')\n",
    "x4 = np.empty((5,6))                       #建置用極小的數(科學符號)填滿的array\n",
    "print(x4) \n",
    "print('x4_itemsize',x4.itemsize,'\\n')"
   ]
  },
  {
   "cell_type": "code",
   "execution_count": 6,
   "id": "1fc0ff1b",
   "metadata": {},
   "outputs": [
    {
     "name": "stdout",
     "output_type": "stream",
     "text": [
      "[[ 0  5 10 15 20]\n",
      " [25 30 35 40 45]\n",
      " [50 55 60 65 70]]\n",
      "[ 0.  12.5 25.  37.5 50. ]\n"
     ]
    }
   ],
   "source": [
    "# 從固定大小的序列值建置array\n",
    "y1 = np.arange(0,75,5).reshape(3,5)   # 固定長度的等差序列\n",
    "print(y1)\n",
    "y2 = np.linspace(0,50,num=5)          # 固定區間的等差序列\n",
    "print(y2)"
   ]
  },
  {
   "cell_type": "code",
   "execution_count": 7,
   "id": "46d9ebd5",
   "metadata": {},
   "outputs": [
    {
     "name": "stdout",
     "output_type": "stream",
     "text": [
      "['False', 'None', 'True', '__peg_parser__', 'and', 'as', 'assert', 'async', 'await', 'break', 'class', 'continue', 'def', 'del', 'elif', 'else', 'except', 'finally', 'for', 'from', 'global', 'if', 'import', 'in', 'is', 'lambda', 'nonlocal', 'not', 'or', 'pass', 'raise', 'return', 'try', 'while', 'with', 'yield']\n"
     ]
    }
   ],
   "source": [
    "# 查python的保留字\n",
    "import keyword\n",
    "keyList = keyword.kwlist\n",
    "print(keyList)"
   ]
  },
  {
   "cell_type": "code",
   "execution_count": 8,
   "id": "06eb0695",
   "metadata": {},
   "outputs": [],
   "source": [
    "# 載入default_rng\n",
    "from numpy.random import default_rng\n",
    "rng = default_rng()"
   ]
  },
  {
   "cell_type": "code",
   "execution_count": 14,
   "id": "5661cfe2",
   "metadata": {},
   "outputs": [
    {
     "name": "stdout",
     "output_type": "stream",
     "text": [
      "[[ 0.4957781   0.53549261 -0.02260787]\n",
      " [-0.30948662  0.02679117 -0.51477387]] \n",
      "\n",
      "[[0.67439641 0.72817742 0.51869671]\n",
      " [0.40988932 0.64262811 0.84331027]] \n",
      "\n",
      "[[4 9]\n",
      " [3 6]\n",
      " [7 1]]\n"
     ]
    }
   ],
   "source": [
    "# 從固定大小的亂數值建置array\n",
    "normal = rng.standard_normal((2,3))           # 建置一個常態分佈的亂數陣列\n",
    "print(normal,'\\n')\n",
    "random = rng.random((2,3))                     # 建置一個0~1的亂數陣列\n",
    "print(random,'\\n')\n",
    "integers = rng.integers(0,10,size=(3,2))       # 建置一個給定整數的亂數陣列\n",
    "print(integers)"
   ]
  },
  {
   "cell_type": "code",
   "execution_count": 17,
   "id": "5000546e",
   "metadata": {},
   "outputs": [
    {
     "name": "stdout",
     "output_type": "stream",
     "text": [
      "[[-0.37474654 -1.90839179  0.83736331]\n",
      " [ 0.87634386  2.21162179 -0.95180715]] \n",
      "\n",
      "[[0.85741242 0.74070414 0.70948707]\n",
      " [0.43838734 0.23930211 0.71200685]] \n",
      "\n",
      "[[5 9]\n",
      " [3 0]\n",
      " [7 0]]\n"
     ]
    }
   ],
   "source": [
    "# 從固定大小的亂數值建置array(舊版)     \n",
    "normal_old = np.random.randn(2,3)\n",
    "print(normal_old,'\\n')\n",
    "random_old = np.random.random((2,3))\n",
    "print(random_old,'\\n')\n",
    "integers_old = np.random.randint(0,10,size=(3,2))\n",
    "print(integers_old)"
   ]
  },
  {
   "cell_type": "markdown",
   "id": "823bcfb8",
   "metadata": {},
   "source": [
    "<font color=blue size=4>NumPy 結構化陣列 (Structured Arrays)</font></br>\n",
    "structured.txt內容：</br>\n",
    "Jay,1,2,Yes</br>\n",
    "James,3,4,No</br>\n",
    "Joe,5,6,Yes</br>"
   ]
  },
  {
   "cell_type": "code",
   "execution_count": 10,
   "id": "ad8274a0",
   "metadata": {},
   "outputs": [
    {
     "name": "stdout",
     "output_type": "stream",
     "text": [
      "[('Jay', 1, 2, 'Yes') ('James', 3, 4, 'No') ('Joe', 5, 6, 'Yes')]\n",
      "[('Name', '<U5'), ('num1', '<i4'), ('num2', '<i4'), ('True', '<U3')]\n"
     ]
    }
   ],
   "source": [
    "# 指定dtype給array\n",
    "dt = np.dtype({'names':('Name', 'num1', 'num2', 'True'), 'formats':((np.str_, 5), np.int32, int, 'U3')})\n",
    "z = np.genfromtxt(\"structured.txt\", delimiter=',', dtype=dt)\n",
    "print(z)\n",
    "print(z.dtype)"
   ]
  },
  {
   "cell_type": "code",
   "execution_count": 11,
   "id": "1becf1f7",
   "metadata": {},
   "outputs": [
    {
     "name": "stdout",
     "output_type": "stream",
     "text": [
      "('Jay', 1, 2, 'Yes')\n",
      "['Jay' 'James' 'Joe']\n",
      "[('James', 3, 4, 'No') ('Joe', 5, 6, 'Yes')]\n",
      "['James' 'Joe']\n"
     ]
    }
   ],
   "source": [
    "# 用索引取值 \n",
    "print(z[0])\n",
    "# 用欄位取值 \n",
    "print(z['Name'])\n",
    "# 指定條件篩選取值\n",
    "print(z[z['num2'] >= 3])\n",
    "print(z[z['num2'] >= 3]['Name'])"
   ]
  },
  {
   "cell_type": "code",
   "execution_count": 12,
   "id": "6ac5af4a",
   "metadata": {},
   "outputs": [
    {
     "name": "stdout",
     "output_type": "stream",
     "text": [
      "[('', 0, 0, '') ('', 0, 0, '') ('', 0, 0, '')]\n"
     ]
    }
   ],
   "source": [
    "# 用 zeros() 初始化陣列，並指定上面設置的dtype\n",
    "z1 = np.zeros(3,dtype=dt)\n",
    "print(z1)"
   ]
  },
  {
   "cell_type": "code",
   "execution_count": 13,
   "id": "f2561bcf",
   "metadata": {},
   "outputs": [
    {
     "name": "stdout",
     "output_type": "stream",
     "text": [
      "[('AAA', 11, 14, 'Y') ('BBB', 12, 15, 'Y') ('CCC', 13, 16, 'N')]\n"
     ]
    }
   ],
   "source": [
    "# 將清單資料餵入結構化陣列中\n",
    "name = ['AAA', 'BBB', 'CCC']\n",
    "num_1 = [11, 12, 13]\n",
    "num_2 = [14, 15, 16]\n",
    "check = ['Y', 'Y', 'N']\n",
    "\n",
    "z1['Name'] = name\n",
    "z1['num1'] = num_1\n",
    "z1['num2'] = num_2\n",
    "z1['True'] = check\n",
    "\n",
    "print(z1)"
   ]
  },
  {
   "cell_type": "code",
   "execution_count": null,
   "id": "6c56ff1c",
   "metadata": {},
   "outputs": [],
   "source": []
  }
 ],
 "metadata": {
  "kernelspec": {
   "display_name": "Python 3 (ipykernel)",
   "language": "python",
   "name": "python3"
  },
  "language_info": {
   "codemirror_mode": {
    "name": "ipython",
    "version": 3
   },
   "file_extension": ".py",
   "mimetype": "text/x-python",
   "name": "python",
   "nbconvert_exporter": "python",
   "pygments_lexer": "ipython3",
   "version": "3.9.13"
  }
 },
 "nbformat": 4,
 "nbformat_minor": 5
}
