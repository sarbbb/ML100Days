{
 "cells": [
  {
   "cell_type": "code",
   "execution_count": 1,
   "id": "840306fd",
   "metadata": {},
   "outputs": [],
   "source": [
    "import numpy as np"
   ]
  },
  {
   "cell_type": "code",
   "execution_count": 2,
   "id": "257564d3",
   "metadata": {},
   "outputs": [
    {
     "name": "stdout",
     "output_type": "stream",
     "text": [
      "[0 1 8]\n"
     ]
    }
   ],
   "source": [
    "a = np.arange(3) **3\n",
    "print(a)"
   ]
  },
  {
   "cell_type": "code",
   "execution_count": 4,
   "id": "a346142b",
   "metadata": {},
   "outputs": [
    {
     "name": "stdout",
     "output_type": "stream",
     "text": [
      "8\n",
      "0\n",
      "[1 8]\n",
      "[1 8]\n"
     ]
    }
   ],
   "source": [
    "# 陣列的切片\n",
    "print(a[-1])\n",
    "print(a[0])\n",
    "print(a[1:3])\n",
    "print(a[-2:])   # 從-2取到結束"
   ]
  },
  {
   "cell_type": "code",
   "execution_count": 34,
   "id": "b48e48db",
   "metadata": {},
   "outputs": [
    {
     "name": "stdout",
     "output_type": "stream",
     "text": [
      "[[[0 1]\n",
      "  [2 3]\n",
      "  [4 5]]]\n",
      "============================================================\n",
      "去掉最外的一層:\n",
      "[[0 1]\n",
      " [2 3]\n",
      " [4 5]]\n",
      "============================================================\n",
      "去掉外面的二層:\n",
      "[0 1]\n",
      "[2 3]\n",
      "[4 5]\n",
      "============================================================\n",
      "把三層都去掉，將元素取出來:\n",
      "0\n",
      "1\n",
      "2\n",
      "3\n",
      "4\n",
      "5\n"
     ]
    }
   ],
   "source": [
    "# 多維陣列取值用迭代 (用迴圈處理)\n",
    "b1 = np.array([[[0,1],\n",
    "                [2,3],\n",
    "                [4,5]]])\n",
    "print(b1)\n",
    "print('='*60)\n",
    "print('去掉最外的一層:')\n",
    "for i in b1:\n",
    "    print(i)\n",
    "print('='*60)\n",
    "print('去掉外面的二層:')\n",
    "for i in b1:\n",
    "    for j in i:\n",
    "        print(j)\n",
    "print('='*60)\n",
    "print('把三層都去掉，將元素取出來:')\n",
    "for i in b1:\n",
    "    for j in i:\n",
    "        for k in j:\n",
    "            print(k)"
   ]
  },
  {
   "cell_type": "code",
   "execution_count": 21,
   "id": "5d11d068",
   "metadata": {},
   "outputs": [
    {
     "name": "stdout",
     "output_type": "stream",
     "text": [
      "將陣列的元素取出來：\n",
      "0\n",
      "1\n",
      "2\n",
      "3\n",
      "4\n",
      "5\n",
      "============================================================\n",
      "0\n",
      "1\n",
      "2\n",
      "3\n",
      "4\n",
      "5\n",
      "============================================================\n",
      "0\n",
      "1\n",
      "2\n",
      "3\n",
      "4\n",
      "5\n"
     ]
    }
   ],
   "source": [
    "# 如果要取元素，會先攤平再取\n",
    "b2 = np.array([[[0,1],\n",
    "                [2,3],\n",
    "                [4,5]]])\n",
    "b3 = b2.reshape(-1)\n",
    "b4 = b2.flat\n",
    "b5 = b2.flatten('C')\n",
    "print('將陣列的元素取出來：')\n",
    "for i in b3:\n",
    "    print(i)\n",
    "print('='*60)\n",
    "for i in b4:\n",
    "    print(i)\n",
    "print('='*60)\n",
    "for i in b5:\n",
    "    print(i)"
   ]
  },
  {
   "cell_type": "code",
   "execution_count": 28,
   "id": "e4b8755d",
   "metadata": {},
   "outputs": [
    {
     "name": "stdout",
     "output_type": "stream",
     "text": [
      "============================================================\n",
      "參數用C(默認值)，取元素依Row順序取\n",
      "0\n",
      "1\n",
      "2\n",
      "3\n",
      "4\n",
      "5\n",
      "============================================================\n",
      "參數用F，取元素依Column順序取\n",
      "0\n",
      "2\n",
      "4\n",
      "1\n",
      "3\n",
      "5\n"
     ]
    }
   ],
   "source": [
    "# 用 np.nditer 取元素\n",
    "b3 = np.array([[[0,1],\n",
    "                [2,3],\n",
    "                [4,5]]])\n",
    "print('='*60)\n",
    "print('參數用C(默認值)，取元素依Row順序取')\n",
    "for i in np.nditer(b3,order = 'C'):    \n",
    "    print(i)\n",
    "print('='*60)\n",
    "print('參數用F，取元素依Column順序取')\n",
    "for i in np.nditer(b3,order = 'F'):    \n",
    "    print(i)"
   ]
  },
  {
   "cell_type": "code",
   "execution_count": null,
   "id": "4f3d9de3",
   "metadata": {},
   "outputs": [],
   "source": []
  }
 ],
 "metadata": {
  "kernelspec": {
   "display_name": "Python 3 (ipykernel)",
   "language": "python",
   "name": "python3"
  },
  "language_info": {
   "codemirror_mode": {
    "name": "ipython",
    "version": 3
   },
   "file_extension": ".py",
   "mimetype": "text/x-python",
   "name": "python",
   "nbconvert_exporter": "python",
   "pygments_lexer": "ipython3",
   "version": "3.9.13"
  }
 },
 "nbformat": 4,
 "nbformat_minor": 5
}
