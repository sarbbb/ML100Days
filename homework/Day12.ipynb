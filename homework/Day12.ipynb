{
 "cells": [
  {
   "cell_type": "code",
   "execution_count": 1,
   "id": "ffcf6d7a",
   "metadata": {},
   "outputs": [],
   "source": [
    "import numpy as np \n",
    "import pandas as pd"
   ]
  },
  {
   "cell_type": "code",
   "execution_count": 3,
   "id": "23f6a042",
   "metadata": {},
   "outputs": [
    {
     "data": {
      "text/html": [
       "<div>\n",
       "<style scoped>\n",
       "    .dataframe tbody tr th:only-of-type {\n",
       "        vertical-align: middle;\n",
       "    }\n",
       "\n",
       "    .dataframe tbody tr th {\n",
       "        vertical-align: top;\n",
       "    }\n",
       "\n",
       "    .dataframe thead th {\n",
       "        text-align: right;\n",
       "    }\n",
       "</style>\n",
       "<table border=\"1\" class=\"dataframe\">\n",
       "  <thead>\n",
       "    <tr style=\"text-align: right;\">\n",
       "      <th></th>\n",
       "      <th>A</th>\n",
       "      <th>B</th>\n",
       "      <th>C</th>\n",
       "    </tr>\n",
       "  </thead>\n",
       "  <tbody>\n",
       "    <tr>\n",
       "      <th>0</th>\n",
       "      <td>1</td>\n",
       "      <td>2</td>\n",
       "      <td>3</td>\n",
       "    </tr>\n",
       "    <tr>\n",
       "      <th>1</th>\n",
       "      <td>9</td>\n",
       "      <td>1</td>\n",
       "      <td>2</td>\n",
       "    </tr>\n",
       "    <tr>\n",
       "      <th>2</th>\n",
       "      <td>4</td>\n",
       "      <td>9</td>\n",
       "      <td>5</td>\n",
       "    </tr>\n",
       "    <tr>\n",
       "      <th>3</th>\n",
       "      <td>2</td>\n",
       "      <td>2</td>\n",
       "      <td>4</td>\n",
       "    </tr>\n",
       "  </tbody>\n",
       "</table>\n",
       "</div>"
      ],
      "text/plain": [
       "   A  B  C\n",
       "0  1  2  3\n",
       "1  9  1  2\n",
       "2  4  9  5\n",
       "3  2  2  4"
      ]
     },
     "execution_count": 3,
     "metadata": {},
     "output_type": "execute_result"
    }
   ],
   "source": [
    "df1 = pd.DataFrame([[1,2,3],\n",
    "                    [9,1,2],\n",
    "                    [4,9,5],\n",
    "                    [2,2,4]],columns = ['A','B','C'])\n",
    "df1"
   ]
  },
  {
   "cell_type": "code",
   "execution_count": 4,
   "id": "effdfce1",
   "metadata": {},
   "outputs": [
    {
     "name": "stdout",
     "output_type": "stream",
     "text": [
      "A\n",
      "B\n",
      "C\n"
     ]
    }
   ],
   "source": [
    "for i1 in df1:\n",
    "    print(i1)"
   ]
  },
  {
   "cell_type": "code",
   "execution_count": 7,
   "id": "3542eda6",
   "metadata": {},
   "outputs": [
    {
     "name": "stdout",
     "output_type": "stream",
     "text": [
      "A    1\n",
      "B    2\n",
      "C    3\n",
      "Name: 0, dtype: int64\n",
      "A    9\n",
      "B    1\n",
      "C    2\n",
      "Name: 1, dtype: int64\n",
      "A    4\n",
      "B    9\n",
      "C    5\n",
      "Name: 2, dtype: int64\n",
      "A    2\n",
      "B    2\n",
      "C    4\n",
      "Name: 3, dtype: int64\n"
     ]
    }
   ],
   "source": [
    "# 暴力把record 用for 迴圈取出來\n",
    "for i2 in range(len(df1)):      \n",
    "    print(df1.iloc[i2])"
   ]
  },
  {
   "cell_type": "code",
   "execution_count": 6,
   "id": "6e9fefaf",
   "metadata": {},
   "outputs": [
    {
     "name": "stdout",
     "output_type": "stream",
     "text": [
      "1\n",
      "2\n",
      "3\n",
      "9\n",
      "1\n",
      "2\n",
      "4\n",
      "9\n",
      "5\n",
      "2\n",
      "2\n",
      "4\n"
     ]
    }
   ],
   "source": [
    "# 暴力把所有值用for迴圈取出來\n",
    "for i2 in range(len(df1)):      \n",
    "    for j in df1.iloc[i2]:\n",
    "        print(j)"
   ]
  },
  {
   "cell_type": "code",
   "execution_count": 17,
   "id": "845d4ca2",
   "metadata": {},
   "outputs": [
    {
     "name": "stdout",
     "output_type": "stream",
     "text": [
      "('A', 0    1\n",
      "1    9\n",
      "2    4\n",
      "3    2\n",
      "Name: A, dtype: int64)\n",
      "('B', 0    2\n",
      "1    1\n",
      "2    9\n",
      "3    2\n",
      "Name: B, dtype: int64)\n",
      "('C', 0    3\n",
      "1    2\n",
      "2    5\n",
      "3    4\n",
      "Name: C, dtype: int64)\n"
     ]
    }
   ],
   "source": [
    "# 用iteritems()\n",
    "for i3 in df1.iteritems():   # 依欄位將值取出來\n",
    "    print(i3)"
   ]
  },
  {
   "cell_type": "code",
   "execution_count": 10,
   "id": "a63e5c56",
   "metadata": {},
   "outputs": [
    {
     "name": "stdout",
     "output_type": "stream",
     "text": [
      "(0, A    1\n",
      "B    2\n",
      "C    3\n",
      "Name: 0, dtype: int64)\n",
      "(1, A    9\n",
      "B    1\n",
      "C    2\n",
      "Name: 1, dtype: int64)\n",
      "(2, A    4\n",
      "B    9\n",
      "C    5\n",
      "Name: 2, dtype: int64)\n",
      "(3, A    2\n",
      "B    2\n",
      "C    4\n",
      "Name: 3, dtype: int64)\n"
     ]
    }
   ],
   "source": [
    "# 用iterrows()\n",
    "for i4 in df1.iterrows():   # 依record 將值取出來\n",
    "    print(i4)"
   ]
  },
  {
   "cell_type": "code",
   "execution_count": 14,
   "id": "aa8bc62f",
   "metadata": {},
   "outputs": [
    {
     "name": "stdout",
     "output_type": "stream",
     "text": [
      "Pandas(Index=0, A=1, B=2, C=3)\n",
      "Pandas(Index=1, A=9, B=1, C=2)\n",
      "Pandas(Index=2, A=4, B=9, C=5)\n",
      "Pandas(Index=3, A=2, B=2, C=4)\n"
     ]
    }
   ],
   "source": [
    "# 用itertuples()\n",
    "for i5 in df1.itertuples():   # 依record 將值取出來\n",
    "    print(i5)"
   ]
  },
  {
   "cell_type": "code",
   "execution_count": 24,
   "id": "25630623",
   "metadata": {},
   "outputs": [
    {
     "name": "stdout",
     "output_type": "stream",
     "text": [
      "A    4.0\n",
      "B    3.5\n",
      "C    3.5\n",
      "dtype: float64\n",
      "========================================\n",
      "A    9\n",
      "B    9\n",
      "C    5\n",
      "dtype: int64\n",
      "========================================\n",
      "A    1\n",
      "B    1\n",
      "C    2\n",
      "dtype: int64\n",
      "========================================\n",
      "A    4\n",
      "B    4\n",
      "C    4\n",
      "dtype: int64\n",
      "========================================\n",
      "      A     B     C\n",
      "0    10    80   270\n",
      "1  7290    10    80\n",
      "2   640  7290  1250\n",
      "3    80    80   640\n",
      "0   -1\n",
      "1   -9\n",
      "2   -4\n",
      "3   -2\n",
      "Name: A, dtype: int64\n"
     ]
    }
   ],
   "source": [
    "# apply()的應用\n",
    "print(df1.apply(np.mean))\n",
    "print('='*40)\n",
    "print(df1.apply(np.max))\n",
    "print('='*40)\n",
    "print(df1.apply(np.min))\n",
    "print('='*40)\n",
    "print(df1.apply(lambda x: x.count()))\n",
    "print('='*40)\n",
    "print(df1.apply(lambda x: x**3*10))"
   ]
  },
  {
   "cell_type": "code",
   "execution_count": null,
   "id": "99e46bbd",
   "metadata": {},
   "outputs": [],
   "source": []
  }
 ],
 "metadata": {
  "kernelspec": {
   "display_name": "Python 3 (ipykernel)",
   "language": "python",
   "name": "python3"
  },
  "language_info": {
   "codemirror_mode": {
    "name": "ipython",
    "version": 3
   },
   "file_extension": ".py",
   "mimetype": "text/x-python",
   "name": "python",
   "nbconvert_exporter": "python",
   "pygments_lexer": "ipython3",
   "version": "3.9.13"
  }
 },
 "nbformat": 4,
 "nbformat_minor": 5
}
